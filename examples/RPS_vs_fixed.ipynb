{
 "cells": [
  {
   "cell_type": "markdown",
   "metadata": {},
   "source": [
    "# Rock-Paper-Scissor Against Deterministic Policy"
   ]
  },
  {
   "cell_type": "code",
   "execution_count": 1,
   "metadata": {},
   "outputs": [],
   "source": [
    "import sys \n",
    "sys.path.append(\"../src\")\n",
    "import numpy\n",
    "import matplotlib.pyplot as plt\n",
    "import LearningGames"
   ]
  },
  {
   "cell_type": "markdown",
   "metadata": {},
   "source": [
    "## Create game"
   ]
  },
  {
   "cell_type": "code",
   "execution_count": 2,
   "metadata": {},
   "outputs": [],
   "source": [
    "class RPS_vs_fixed:\n",
    "    action_set={\"R\",\"P\",\"S\"}\n",
    "    def __init__(self,fixed_action):\n",
    "        \"\"\"Create game\n",
    "\n",
    "        Args:\n",
    "            fixed_action: constant action for player 2\n",
    "        \"\"\"\n",
    "        self.fixed_action=fixed_action\n",
    "    def cost(self,p1_action,p2_action) -> float:\n",
    "        \"\"\"Returns game outcome\n",
    "\n",
    "        Args:\n",
    "            p1_action: action for player 1\n",
    "            p2_action: action for player 2\n",
    "\n",
    "        Returns:\n",
    "            game result (float): -1 if player 1 wins, +1 if player 1 loses, 0 draw\n",
    "        \"\"\"\n",
    "        if p1_action==p2_action:\n",
    "            # draw\n",
    "            return 0\n",
    "        if (p1_action==\"R\" and p2_action==\"S\") or (p1_action==\"P\" and p2_action==\"R\") or (p1_action==\"S\" and p2_action==\"P\"):\n",
    "            return -1\n",
    "        else:\n",
    "            return +1        \n",
    "    def play(self,p1_action) -> tuple[float,dict[str,float]]:      \n",
    "        \"\"\"Play game\n",
    "\n",
    "        Args:\n",
    "            p1_action: action for player 1\n",
    "\n",
    "        Returns: \n",
    "            tuple[float,dict(str,float)]\n",
    "            cost (float): -1 if player 1 wins, +1 if player 1 loses, 0 draw\n",
    "            all_costs (dict[str,float]): dictionary with costs for all actions of player 1\n",
    "        \"\"\"\n",
    "        # select action for player 2\n",
    "        p2_action=self.fixed_action\n",
    "        # cost for given action of player 1\n",
    "        cost=self.cost(p1_action,p2_action)\n",
    "        # costs for all actions of player 1\n",
    "        all_costs={a:self.cost(a,p2_action) for a in self.action_set}\n",
    "        return (cost,all_costs)"
   ]
  },
  {
   "cell_type": "markdown",
   "metadata": {},
   "source": [
    "## Create LearningGame object"
   ]
  },
  {
   "cell_type": "markdown",
   "metadata": {},
   "source": [
    "+ Against a static player, we can use `gamma=0`\n",
    "+ Against a deterministic player, the temperature can be quite low. This will result in very fast learning."
   ]
  },
  {
   "cell_type": "code",
   "execution_count": 3,
   "metadata": {},
   "outputs": [],
   "source": [
    "game=RPS_vs_fixed(\"P\")\n",
    "lg=LearningGames.LearningGame(game.action_set,\n",
    "                              gamma=0.0,inverse_temperature=.1,seed=0);"
   ]
  },
  {
   "cell_type": "markdown",
   "metadata": {},
   "source": [
    "## Simulate game"
   ]
  },
  {
   "cell_type": "code",
   "execution_count": 4,
   "metadata": {},
   "outputs": [
    {
     "name": "stdout",
     "output_type": "stream",
     "text": [
      "iter=   0, action = S, cost = -1, rewards = {'R': 1, 'S': -1, 'P': 0}\n",
      "iter=   1, action = R, cost =  1, rewards = {'R': 1, 'S': -1, 'P': 0}\n",
      "iter=   2, action = R, cost =  1, rewards = {'R': 1, 'S': -1, 'P': 0}\n",
      "iter=   3, action = R, cost =  1, rewards = {'R': 1, 'S': -1, 'P': 0}\n",
      "iter=   4, action = P, cost =  0, rewards = {'R': 1, 'S': -1, 'P': 0}\n",
      "iter=   5, action = P, cost =  0, rewards = {'R': 1, 'S': -1, 'P': 0}\n",
      "iter=   6, action = S, cost = -1, rewards = {'R': 1, 'S': -1, 'P': 0}\n",
      "iter=   7, action = P, cost =  0, rewards = {'R': 1, 'S': -1, 'P': 0}\n",
      "iter=   8, action = S, cost = -1, rewards = {'R': 1, 'S': -1, 'P': 0}\n",
      "iter=   9, action = P, cost =  0, rewards = {'R': 1, 'S': -1, 'P': 0}\n",
      "  number_updates =           100  alpha1       =      1.103331  alpha0       =      0.203515\n",
      "  minimum_cost   =     -1.000000  average_cost =     -0.885088  cost_bound   =     -0.878787\n",
      "                                  regret       =      0.114912  regret_bound =      0.121213\n"
     ]
    }
   ],
   "source": [
    "lg.reset()\n",
    "M = 100\n",
    "costs=numpy.zeros(M)\n",
    "for iter in range(M):\n",
    "    # Play\n",
    "    action=lg.get_action(None)\n",
    "    (costs[iter],all_costs)=game.play(action)\n",
    "    # Learn\n",
    "    lg.update_energies(None, all_costs)\n",
    "    # output\n",
    "    if iter<10:\n",
    "        print(\"iter={:4d}, action = {:s}, cost = {:2.0f}, rewards = {:s}\".format(iter,action,costs[iter],str(all_costs)))\n",
    "    #print(lg.energy)\n",
    "lg.get_regret(display=True);"
   ]
  },
  {
   "cell_type": "markdown",
   "metadata": {},
   "source": [
    "## Plot results"
   ]
  },
  {
   "cell_type": "code",
   "execution_count": 5,
   "metadata": {},
   "outputs": [
    {
     "data": {
      "image/png": "[encoded data removed]",
      "text/plain": [
       "<Figure size 640x480 with 1 Axes>"
      ]
     },
     "metadata": {},
     "output_type": "display_data"
    }
   ],
   "source": [
    "fig=plt.figure()\n",
    "plt.plot(range(M),costs,'.',label='cost')\n",
    "plt.plot(range(M),numpy.divide(numpy.cumsum(costs),numpy.add(range(M),1)),'-',label='average cost')\n",
    "plt.legend()\n",
    "plt.grid()\n",
    "plt.xlabel('t')\n",
    "plt.ylabel('cost');"
   ]
  }
 ],
 "metadata": {
  "kernelspec": {
   "display_name": "venv",
   "language": "python",
   "name": "python3"
  },
  "language_info": {
   "codemirror_mode": {
    "name": "ipython",
    "version": 3
   },
   "file_extension": ".py",
   "mimetype": "text/x-python",
   "name": "python",
   "nbconvert_exporter": "python",
   "pygments_lexer": "ipython3",
   "version": "3.9.18"
  }
 },
 "nbformat": 4,
 "nbformat_minor": 2
}
